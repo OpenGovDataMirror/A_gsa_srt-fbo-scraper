{
 "cells": [
  {
   "cell_type": "code",
   "execution_count": 1,
   "metadata": {},
   "outputs": [],
   "source": [
    "import os\n",
    "import sys\n",
    "import pandas as pd\n",
    "import numpy as np\n",
    "from sklearn import metrics\n",
    "from sklearn.feature_selection import SelectKBest, chi2\n",
    "from sklearn.feature_extraction.text import TfidfVectorizer\n",
    "from sklearn.linear_model import SGDClassifier\n",
    "from imblearn.pipeline import Pipeline\n",
    "import dill as pickle\n",
    "import warnings\n",
    "warnings.filterwarnings('ignore')\n",
    "\n",
    "import matplotlib.pyplot as plt\n",
    "%matplotlib inline\n",
    "\n",
    "# Allow import from parent directory (for utils for example)\n",
    "sys.path.append(os.path.abspath(os.path.join('..')))\n",
    "import utils.train as train"
   ]
  },
  {
   "cell_type": "markdown",
   "metadata": {},
   "source": [
    "# Import the Estimator and Take a Look"
   ]
  },
  {
   "cell_type": "code",
   "execution_count": 2,
   "metadata": {},
   "outputs": [],
   "source": [
    "estimator = pickle.load(open('../utils/binaries/estimator.pkl','rb'))"
   ]
  },
  {
   "cell_type": "markdown",
   "metadata": {},
   "source": [
    "By listing the estimator steps, we get the the details of the classifier pipeline with the best chosen hyperparameters. The estimator is a pipeline of:\n",
    "\n",
    " 1. a TF-IDF vectorizor (with L2 norm), \n",
    " 2. a KBest selector (top 2000), and \n",
    " 3. a stochastic gradient descent (SGD) classifier\n",
    "\n",
    "Because the SGD classifier uses a \"modified_huber\" loss function, it not only gives us predictions, but probabilities of fit. This could be useful to determine the confidence of the predictions (identifying a \"yellow\" zone) that could be communicated to users for details and reclassification."
   ]
  },
  {
   "cell_type": "code",
   "execution_count": 3,
   "metadata": {},
   "outputs": [
    {
     "data": {
      "text/plain": [
       "[('vectorizer',\n",
       "  TfidfVectorizer(analyzer='word', binary=False, decode_error='strict',\n",
       "                  dtype=<class 'numpy.int64'>, encoding='utf-8', input='content',\n",
       "                  lowercase=True, max_df=1.012474489021681, max_features=None,\n",
       "                  min_df=2, ngram_range=(1, 2), norm='l2', preprocessor=None,\n",
       "                  smooth_idf=True, stop_words='english', strip_accents=None,\n",
       "                  sublinear_tf=True, token_pattern='(?u)\\\\b\\\\w\\\\w+\\\\b',\n",
       "                  tokenizer=None, use_idf=True, vocabulary=None)),\n",
       " ('select', SelectKBest(k=2000, score_func=<function chi2 at 0x7f42f6fb4730>)),\n",
       " ('clf',\n",
       "  SGDClassifier(alpha=array([0.00156602]), average=False, class_weight='balanced',\n",
       "                early_stopping=None, epsilon=0.1, eta0=0.0, fit_intercept=True,\n",
       "                l1_ratio=0.15, learning_rate='optimal', loss='modified_huber',\n",
       "                max_iter=None, n_iter_no_change=None, n_jobs=1,\n",
       "                penalty='elasticnet', power_t=0.5, random_state=None,\n",
       "                shuffle=True, tol=None, validation_fraction=None, verbose=0,\n",
       "                warm_start=False))]"
      ]
     },
     "execution_count": 3,
     "metadata": {},
     "output_type": "execute_result"
    }
   ],
   "source": [
    "estimator.steps"
   ]
  },
  {
   "cell_type": "markdown",
   "metadata": {},
   "source": [
    "As a quick sanity check, let's run the estimator on a couple of examples:"
   ]
  },
  {
   "cell_type": "code",
   "execution_count": 4,
   "metadata": {},
   "outputs": [
    {
     "data": {
      "text/plain": [
       "array([0, 1])"
      ]
     },
     "execution_count": 4,
     "metadata": {},
     "output_type": "execute_result"
    }
   ],
   "source": [
    "estimator.predict(['This is a bunch of words that do not mention what we want to capture',\n",
    "                   'This is another bunch of words but we care about Section 508 accessibility.'])"
   ]
  },
  {
   "cell_type": "markdown",
   "metadata": {},
   "source": [
    "OK, that makes sense, but what about the cofidence of it being \"Green\" (1)?"
   ]
  },
  {
   "cell_type": "code",
   "execution_count": 5,
   "metadata": {},
   "outputs": [
    {
     "data": {
      "text/plain": [
       "array([0.27327843, 0.62025061])"
      ]
     },
     "execution_count": 5,
     "metadata": {},
     "output_type": "execute_result"
    }
   ],
   "source": [
    "estimator.predict_proba(['This is a bunch of words that do not mention what we want to capture',\n",
    "                         'This is another bunch of words but we care about Section 508 accessibility.'])[:,1]"
   ]
  },
  {
   "cell_type": "markdown",
   "metadata": {},
   "source": [
    "So we're pretty sure that the first line is not GREEN, while the second one is \"kind of\" GREEN."
   ]
  },
  {
   "cell_type": "markdown",
   "metadata": {},
   "source": [
    "Out of curiosity, what are the words (features) that have the most significance choosing between GREEN and RED? We can figure this out by pulling out the features and scores from the estimator steps:"
   ]
  },
  {
   "cell_type": "code",
   "execution_count": 6,
   "metadata": {},
   "outputs": [
    {
     "data": {
      "text/html": [
       "<div>\n",
       "<style scoped>\n",
       "    .dataframe tbody tr th:only-of-type {\n",
       "        vertical-align: middle;\n",
       "    }\n",
       "\n",
       "    .dataframe tbody tr th {\n",
       "        vertical-align: top;\n",
       "    }\n",
       "\n",
       "    .dataframe thead th {\n",
       "        text-align: right;\n",
       "    }\n",
       "</style>\n",
       "<table border=\"1\" class=\"dataframe\">\n",
       "  <thead>\n",
       "    <tr style=\"text-align: right;\">\n",
       "      <th></th>\n",
       "      <th>features</th>\n",
       "      <th>coef</th>\n",
       "    </tr>\n",
       "  </thead>\n",
       "  <tbody>\n",
       "    <tr>\n",
       "      <td>1577</td>\n",
       "      <td>section 508</td>\n",
       "      <td>2.143648</td>\n",
       "    </tr>\n",
       "    <tr>\n",
       "      <td>1</td>\n",
       "      <td>508</td>\n",
       "      <td>2.119495</td>\n",
       "    </tr>\n",
       "    <tr>\n",
       "      <td>830</td>\n",
       "      <td>function perform</td>\n",
       "      <td>1.883782</td>\n",
       "    </tr>\n",
       "    <tr>\n",
       "      <td>1304</td>\n",
       "      <td>perform criteria</td>\n",
       "      <td>1.749019</td>\n",
       "    </tr>\n",
       "    <tr>\n",
       "      <td>1760</td>\n",
       "      <td>task order</td>\n",
       "      <td>1.524084</td>\n",
       "    </tr>\n",
       "    <tr>\n",
       "      <td>...</td>\n",
       "      <td>...</td>\n",
       "      <td>...</td>\n",
       "    </tr>\n",
       "    <tr>\n",
       "      <td>1974</td>\n",
       "      <td>wall</td>\n",
       "      <td>-0.411968</td>\n",
       "    </tr>\n",
       "    <tr>\n",
       "      <td>90</td>\n",
       "      <td>afb</td>\n",
       "      <td>-0.519698</td>\n",
       "    </tr>\n",
       "    <tr>\n",
       "      <td>274</td>\n",
       "      <td>cabl</td>\n",
       "      <td>-0.817065</td>\n",
       "    </tr>\n",
       "    <tr>\n",
       "      <td>99</td>\n",
       "      <td>air</td>\n",
       "      <td>-0.976992</td>\n",
       "    </tr>\n",
       "    <tr>\n",
       "      <td>100</td>\n",
       "      <td>air forc</td>\n",
       "      <td>-1.260464</td>\n",
       "    </tr>\n",
       "  </tbody>\n",
       "</table>\n",
       "<p>2000 rows × 2 columns</p>\n",
       "</div>"
      ],
      "text/plain": [
       "              features      coef\n",
       "1577       section 508  2.143648\n",
       "1                  508  2.119495\n",
       "830   function perform  1.883782\n",
       "1304  perform criteria  1.749019\n",
       "1760        task order  1.524084\n",
       "...                ...       ...\n",
       "1974              wall -0.411968\n",
       "90                 afb -0.519698\n",
       "274               cabl -0.817065\n",
       "99                 air -0.976992\n",
       "100           air forc -1.260464\n",
       "\n",
       "[2000 rows x 2 columns]"
      ]
     },
     "execution_count": 6,
     "metadata": {},
     "output_type": "execute_result"
    }
   ],
   "source": [
    "features = estimator.named_steps['vectorizer'].get_feature_names()\n",
    "mask = estimator.named_steps['select'].get_support()\n",
    "new_features = [ feature for bool, feature in zip (mask, features) if bool ]\n",
    "nf = pd.DataFrame({'features': new_features, 'coef': estimator.named_steps['clf'].coef_[0] })\n",
    "nf.sort_values(['coef'], ascending=0)"
   ]
  },
  {
   "cell_type": "markdown",
   "metadata": {},
   "source": [
    "# Pull in the Labeled Data\n",
    "\n",
    "Let's pull in the labeled data from the pkl file. It looks like the estimator was trained off of the result of 80% of the labeled data (which is a great best practice because you can then double check your work on a 20% test set that was set aside)."
   ]
  },
  {
   "cell_type": "code",
   "execution_count": 7,
   "metadata": {},
   "outputs": [
    {
     "data": {
      "text/plain": [
       "993"
      ]
     },
     "execution_count": 7,
     "metadata": {},
     "output_type": "execute_result"
    }
   ],
   "source": [
    "attachments = pickle.load(open('../utils/binaries/train.pkl','rb'))\n",
    "len(attachments)"
   ]
  },
  {
   "cell_type": "code",
   "execution_count": 8,
   "metadata": {},
   "outputs": [
    {
     "data": {
      "text/plain": [
       "(993, 993)"
      ]
     },
     "execution_count": 8,
     "metadata": {},
     "output_type": "execute_result"
    }
   ],
   "source": [
    "# The following removes numbers (except 508) small and large words, stop words\n",
    "# and then uses the nltk porter stemmer on the text\n",
    "x,y = train.prepare_samples(attachments)\n",
    "len(x), len(y)"
   ]
  },
  {
   "cell_type": "code",
   "execution_count": 9,
   "metadata": {},
   "outputs": [
    {
     "data": {
      "text/plain": [
       "(794, 794, 199, 199)"
      ]
     },
     "execution_count": 9,
     "metadata": {},
     "output_type": "execute_result"
    }
   ],
   "source": [
    "# Now let's pull out the training and test sets the same way that\n",
    "# the training code appears to pull it out.\n",
    "x_train, x_test, y_train, y_test = train.train_test_split(x, y, stratify=y,\n",
    "                                                          test_size=0.2, random_state=123)\n",
    "len(x_train), len(y_train), len(x_test), len(y_test)"
   ]
  },
  {
   "cell_type": "markdown",
   "metadata": {},
   "source": [
    "# Retrain the Model So We Have a Clean Test Set\n",
    "I ran the experiments below and discovered that the probability distributions and classification reports for the test and training sets were almost identical. So I have to conclude that I don't have a \"clean\" test set (that I have some overlap between the test set and the training set used to create the estimator). So to make the test set clean, let me re-train the estimator on the training set."
   ]
  },
  {
   "cell_type": "code",
   "execution_count": 10,
   "metadata": {},
   "outputs": [
    {
     "data": {
      "text/plain": [
       "[('vectorizer',\n",
       "  TfidfVectorizer(analyzer='word', binary=False, decode_error='strict',\n",
       "                  dtype=<class 'numpy.float64'>, encoding='utf-8',\n",
       "                  input='content', lowercase=True, max_df=1.012474489021681,\n",
       "                  max_features=None, min_df=2, ngram_range=(1, 2), norm='l2',\n",
       "                  preprocessor=None, smooth_idf=True, stop_words='english',\n",
       "                  strip_accents=None, sublinear_tf=True,\n",
       "                  token_pattern='(?u)\\\\b\\\\w\\\\w+\\\\b', tokenizer=None, use_idf=True,\n",
       "                  vocabulary=None)),\n",
       " ('select', SelectKBest(k=2000, score_func=<function chi2 at 0x7f42f6fb4730>)),\n",
       " ('clf',\n",
       "  SGDClassifier(alpha=0.00156602, average=False, class_weight='balanced',\n",
       "                early_stopping=False, epsilon=0.1, eta0=0.0, fit_intercept=True,\n",
       "                l1_ratio=0.15, learning_rate='optimal', loss='modified_huber',\n",
       "                max_iter=1000, n_iter_no_change=5, n_jobs=None, penalty='l2',\n",
       "                power_t=0.5, random_state=None, shuffle=True, tol=0.001,\n",
       "                validation_fraction=0.1, verbose=0, warm_start=False))]"
      ]
     },
     "execution_count": 10,
     "metadata": {},
     "output_type": "execute_result"
    }
   ],
   "source": [
    "estimator = Pipeline([('vectorizer', \n",
    "                       TfidfVectorizer(stop_words='english', ngram_range=(1, 2),\n",
    "                                       min_df=2, max_df=1.012474489021681, \n",
    "                                       norm='l2', sublinear_tf=True)),\n",
    "                     ('select', SelectKBest(chi2, k=2000)),\n",
    "                     ('clf', SGDClassifier(class_weight = 'balanced', \n",
    "                                           alpha=0.00156602,\n",
    "                                           loss='modified_huber'))])\n",
    "estimator.steps\n"
   ]
  },
  {
   "cell_type": "code",
   "execution_count": 11,
   "metadata": {},
   "outputs": [],
   "source": [
    "estimator.fit(x_train, y_train);"
   ]
  },
  {
   "cell_type": "markdown",
   "metadata": {},
   "source": [
    "Re-run our earlier examples:"
   ]
  },
  {
   "cell_type": "code",
   "execution_count": 12,
   "metadata": {},
   "outputs": [
    {
     "data": {
      "text/plain": [
       "array([0, 1])"
      ]
     },
     "execution_count": 12,
     "metadata": {},
     "output_type": "execute_result"
    }
   ],
   "source": [
    "estimator.predict(['This is a bunch of words that do not mention what we want to capture',\n",
    "                   'This is another bunch of words but we care about Section 508 accessibility.'])"
   ]
  },
  {
   "cell_type": "code",
   "execution_count": 13,
   "metadata": {},
   "outputs": [
    {
     "data": {
      "text/plain": [
       "array([0.26928693, 0.57457576])"
      ]
     },
     "execution_count": 13,
     "metadata": {},
     "output_type": "execute_result"
    }
   ],
   "source": [
    "estimator.predict_proba(['This is a bunch of words that do not mention what we want to capture',\n",
    "                         'This is another bunch of words but we care about Section 508 accessibility.'])[:,1]"
   ]
  },
  {
   "cell_type": "markdown",
   "metadata": {},
   "source": [
    "Because I re-trained, did my selected K features change?"
   ]
  },
  {
   "cell_type": "code",
   "execution_count": 14,
   "metadata": {},
   "outputs": [
    {
     "data": {
      "text/html": [
       "<div>\n",
       "<style scoped>\n",
       "    .dataframe tbody tr th:only-of-type {\n",
       "        vertical-align: middle;\n",
       "    }\n",
       "\n",
       "    .dataframe tbody tr th {\n",
       "        vertical-align: top;\n",
       "    }\n",
       "\n",
       "    .dataframe thead th {\n",
       "        text-align: right;\n",
       "    }\n",
       "</style>\n",
       "<table border=\"1\" class=\"dataframe\">\n",
       "  <thead>\n",
       "    <tr style=\"text-align: right;\">\n",
       "      <th></th>\n",
       "      <th>features</th>\n",
       "      <th>coef</th>\n",
       "    </tr>\n",
       "  </thead>\n",
       "  <tbody>\n",
       "    <tr>\n",
       "      <td>1581</td>\n",
       "      <td>section 508</td>\n",
       "      <td>1.895117</td>\n",
       "    </tr>\n",
       "    <tr>\n",
       "      <td>1</td>\n",
       "      <td>508</td>\n",
       "      <td>1.855665</td>\n",
       "    </tr>\n",
       "    <tr>\n",
       "      <td>824</td>\n",
       "      <td>function perform</td>\n",
       "      <td>1.571530</td>\n",
       "    </tr>\n",
       "    <tr>\n",
       "      <td>1303</td>\n",
       "      <td>perform criteria</td>\n",
       "      <td>1.477681</td>\n",
       "    </tr>\n",
       "    <tr>\n",
       "      <td>1768</td>\n",
       "      <td>task order</td>\n",
       "      <td>1.466099</td>\n",
       "    </tr>\n",
       "    <tr>\n",
       "      <td>...</td>\n",
       "      <td>...</td>\n",
       "      <td>...</td>\n",
       "    </tr>\n",
       "    <tr>\n",
       "      <td>1983</td>\n",
       "      <td>wall</td>\n",
       "      <td>-0.389116</td>\n",
       "    </tr>\n",
       "    <tr>\n",
       "      <td>90</td>\n",
       "      <td>afb</td>\n",
       "      <td>-0.540785</td>\n",
       "    </tr>\n",
       "    <tr>\n",
       "      <td>276</td>\n",
       "      <td>cabl</td>\n",
       "      <td>-0.701897</td>\n",
       "    </tr>\n",
       "    <tr>\n",
       "      <td>99</td>\n",
       "      <td>air</td>\n",
       "      <td>-0.919970</td>\n",
       "    </tr>\n",
       "    <tr>\n",
       "      <td>100</td>\n",
       "      <td>air forc</td>\n",
       "      <td>-1.111299</td>\n",
       "    </tr>\n",
       "  </tbody>\n",
       "</table>\n",
       "<p>2000 rows × 2 columns</p>\n",
       "</div>"
      ],
      "text/plain": [
       "              features      coef\n",
       "1581       section 508  1.895117\n",
       "1                  508  1.855665\n",
       "824   function perform  1.571530\n",
       "1303  perform criteria  1.477681\n",
       "1768        task order  1.466099\n",
       "...                ...       ...\n",
       "1983              wall -0.389116\n",
       "90                 afb -0.540785\n",
       "276               cabl -0.701897\n",
       "99                 air -0.919970\n",
       "100           air forc -1.111299\n",
       "\n",
       "[2000 rows x 2 columns]"
      ]
     },
     "execution_count": 14,
     "metadata": {},
     "output_type": "execute_result"
    }
   ],
   "source": [
    "features = estimator.named_steps['vectorizer'].get_feature_names()\n",
    "mask = estimator.named_steps['select'].get_support()\n",
    "new_features = [ feature for bool, feature in zip (mask, features) if bool ]\n",
    "nf = pd.DataFrame({'features': new_features, 'coef': estimator.named_steps['clf'].coef_[0] })\n",
    "nf.sort_values(['coef'], ascending=0)"
   ]
  },
  {
   "cell_type": "markdown",
   "metadata": {},
   "source": [
    "Slightly different coefficients, so it looks like I have slightly different training data or paramters. But overall they didn't change too much. So I should be able to use this to look at the confidence of the predictions."
   ]
  },
  {
   "cell_type": "markdown",
   "metadata": {},
   "source": [
    "# So, How Confident are the Predictions?\n",
    "Let's create a histogram of the probability of predicting GREEN (1)"
   ]
  },
  {
   "cell_type": "code",
   "execution_count": 15,
   "metadata": {},
   "outputs": [],
   "source": [
    "test_prob = estimator.predict_proba(x_test)[:,1]"
   ]
  },
  {
   "cell_type": "code",
   "execution_count": 16,
   "metadata": {},
   "outputs": [
    {
     "data": {
      "text/plain": [
       "array([10.,  1.,  0.,  0.,  6., 32., 36., 29., 22., 13., 13.,  3.,  6.,\n",
       "        2.,  3.,  0.,  5.,  3.,  2., 13.])"
      ]
     },
     "execution_count": 16,
     "metadata": {},
     "output_type": "execute_result"
    },
    {
     "data": {
      "image/png": "[encoded data removed]",
      "text/plain": [
       "<Figure size 432x288 with 1 Axes>"
      ]
     },
     "metadata": {
      "needs_background": "light"
     },
     "output_type": "display_data"
    }
   ],
   "source": [
    "bins = 20\n",
    "n, b, patches = plt.hist(x=test_prob, bins=bins)\n",
    "plt.grid(axis='y', alpha=0.75)\n",
    "plt.xlabel('Probability')\n",
    "plt.ylabel('Frequency')\n",
    "plt.title('Probability Distribution of Test Set')\n",
    "n"
   ]
  },
  {
   "cell_type": "markdown",
   "metadata": {},
   "source": [
    "That is an interesting clump around 0.3-0.35, but there is a significant amount in the 0.4-0.6 range...\n",
    "\n",
    "What about the training set?"
   ]
  },
  {
   "cell_type": "code",
   "execution_count": 17,
   "metadata": {},
   "outputs": [],
   "source": [
    "train_prob = estimator.predict_proba(x_train)[:,1]"
   ]
  },
  {
   "cell_type": "code",
   "execution_count": 18,
   "metadata": {},
   "outputs": [
    {
     "data": {
      "text/plain": [
       "array([ 41.,   0.,   2.,   2.,  19., 163., 132., 102.,  82.,  54.,  45.,\n",
       "        27.,  17.,  13.,  13.,  15.,   5.,   8.,  10.,  44.])"
      ]
     },
     "execution_count": 18,
     "metadata": {},
     "output_type": "execute_result"
    },
    {
     "data": {
      "image/png": "[encoded data removed]",
      "text/plain": [
       "<Figure size 432x288 with 1 Axes>"
      ]
     },
     "metadata": {
      "needs_background": "light"
     },
     "output_type": "display_data"
    }
   ],
   "source": [
    "bins = 20\n",
    "n, b, patches = plt.hist(x=train_prob, bins=bins)\n",
    "plt.grid(axis='y', alpha=0.75)\n",
    "plt.xlabel('Probability')\n",
    "plt.ylabel('Frequency')\n",
    "plt.title('Probability Distribution of Training Set')\n",
    "n"
   ]
  },
  {
   "cell_type": "markdown",
   "metadata": {},
   "source": [
    "So comparing the distributions of the training and test sets, they are similar, but the test set has more of a \"clump\" in the 0.4-0.6 range, which means there is more to \"learn\" as expected.  But this also means that we can use predict_proba to identify this \"yellow\" or inconclusive set of predictions."
   ]
  },
  {
   "cell_type": "markdown",
   "metadata": {},
   "source": [
    "# Quick Sanity Check\n",
    "Let's do a sanity check by doing the predictions and calculating the classification report"
   ]
  },
  {
   "cell_type": "code",
   "execution_count": 19,
   "metadata": {},
   "outputs": [],
   "source": [
    "y_pred = estimator.predict(x_test)"
   ]
  },
  {
   "cell_type": "code",
   "execution_count": 20,
   "metadata": {},
   "outputs": [
    {
     "name": "stdout",
     "output_type": "stream",
     "text": [
      "              precision    recall  f1-score   support\n",
      "\n",
      "         red       0.89      0.92      0.90       145\n",
      "       green       0.76      0.70      0.73        54\n",
      "\n",
      "    accuracy                           0.86       199\n",
      "   macro avg       0.83      0.81      0.82       199\n",
      "weighted avg       0.86      0.86      0.86       199\n",
      "\n"
     ]
    }
   ],
   "source": [
    "print(metrics.classification_report(y_test, y_pred, target_names=['red', 'green']))"
   ]
  },
  {
   "cell_type": "code",
   "execution_count": 21,
   "metadata": {},
   "outputs": [],
   "source": [
    "y_train_pred = estimator.predict(x_train)"
   ]
  },
  {
   "cell_type": "code",
   "execution_count": 22,
   "metadata": {},
   "outputs": [
    {
     "name": "stdout",
     "output_type": "stream",
     "text": [
      "              precision    recall  f1-score   support\n",
      "\n",
      "         red       0.92      0.95      0.93       577\n",
      "       green       0.85      0.77      0.81       217\n",
      "\n",
      "    accuracy                           0.90       794\n",
      "   macro avg       0.88      0.86      0.87       794\n",
      "weighted avg       0.90      0.90      0.90       794\n",
      "\n"
     ]
    }
   ],
   "source": [
    "print(metrics.classification_report(y_train, y_train_pred, target_names=['red', 'green']))"
   ]
  },
  {
   "cell_type": "markdown",
   "metadata": {},
   "source": [
    "Good, my training set performed better than my test set (so I can be more confident that it is a \"clean\" test set and that my analysis above is valid)"
   ]
  }
 ],
 "metadata": {
  "kernelspec": {
   "display_name": "Python 3",
   "language": "python",
   "name": "python3"
  },
  "language_info": {
   "codemirror_mode": {
    "name": "ipython",
    "version": 3
   },
   "file_extension": ".py",
   "mimetype": "text/x-python",
   "name": "python",
   "nbconvert_exporter": "python",
   "pygments_lexer": "ipython3",
   "version": "3.8.2"
  }
 },
 "nbformat": 4,
 "nbformat_minor": 4
}
